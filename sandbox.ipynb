{
 "cells": [
  {
   "cell_type": "code",
   "execution_count": 1,
   "id": "d41c1c1b-072d-44bb-9666-8165530126ed",
   "metadata": {
    "execution": {
     "iopub.execute_input": "2024-04-21T20:15:12.374992Z",
     "iopub.status.busy": "2024-04-21T20:15:12.374682Z",
     "iopub.status.idle": "2024-04-21T20:15:12.385670Z",
     "shell.execute_reply": "2024-04-21T20:15:12.385080Z",
     "shell.execute_reply.started": "2024-04-21T20:15:12.374956Z"
    }
   },
   "outputs": [],
   "source": [
    "import os\n",
    "\n",
    "if os.path.exists('credential.json'):\n",
    "    os.environ[\"GOOGLE_APPLICATION_CREDENTIALS\"] = os.path.join(os.getcwd(), 'credential.json')\n",
    "    os.environ[\"GOOGLE_CLOUD_PROJECT\"] = \"trading-290017\"\n",
    "else:\n",
    "    print('the credential.json file does not exist')\n",
    "\n",
    "import importlib"
   ]
  },
  {
   "cell_type": "code",
   "execution_count": null,
   "id": "80053321-7600-428a-89f7-68beb3f84f7a",
   "metadata": {},
   "outputs": [],
   "source": []
  },
  {
   "cell_type": "code",
   "execution_count": 2,
   "id": "d91f730d-6d77-47e4-9916-ebe75ee318fe",
   "metadata": {
    "execution": {
     "iopub.execute_input": "2024-04-21T20:15:13.369777Z",
     "iopub.status.busy": "2024-04-21T20:15:13.367470Z",
     "iopub.status.idle": "2024-04-21T20:15:13.808309Z",
     "shell.execute_reply": "2024-04-21T20:15:13.807674Z",
     "shell.execute_reply.started": "2024-04-21T20:15:13.369619Z"
    }
   },
   "outputs": [],
   "source": [
    "import pandas as pd"
   ]
  },
  {
   "cell_type": "code",
   "execution_count": 13,
   "id": "526bd025-f9e3-452b-a574-0a8a95a9f5a7",
   "metadata": {
    "execution": {
     "iopub.execute_input": "2024-04-21T20:18:22.008961Z",
     "iopub.status.busy": "2024-04-21T20:18:22.008411Z",
     "iopub.status.idle": "2024-04-21T20:18:22.020595Z",
     "shell.execute_reply": "2024-04-21T20:18:22.020048Z",
     "shell.execute_reply.started": "2024-04-21T20:18:22.008930Z"
    }
   },
   "outputs": [],
   "source": [
    "df_news = pd.read_parquet('ambush.parquet')\n",
    "df_news['symbol_swap'] = df_news['symbol'].astype(str) + '-USDT-SWAP'\n",
    "df_news['timestamp'] = df_news.timestamp.dt.floor('1min')"
   ]
  },
  {
   "cell_type": "code",
   "execution_count": 14,
   "id": "ab1707e9-ac9f-4b72-9a60-b4646829463e",
   "metadata": {
    "execution": {
     "iopub.execute_input": "2024-04-21T20:18:27.635857Z",
     "iopub.status.busy": "2024-04-21T20:18:27.635204Z",
     "iopub.status.idle": "2024-04-21T20:18:27.643784Z",
     "shell.execute_reply": "2024-04-21T20:18:27.643294Z",
     "shell.execute_reply.started": "2024-04-21T20:18:27.635829Z"
    }
   },
   "outputs": [
    {
     "data": {
      "text/html": [
       "<div>\n",
       "<style scoped>\n",
       "    .dataframe tbody tr th:only-of-type {\n",
       "        vertical-align: middle;\n",
       "    }\n",
       "\n",
       "    .dataframe tbody tr th {\n",
       "        vertical-align: top;\n",
       "    }\n",
       "\n",
       "    .dataframe thead th {\n",
       "        text-align: right;\n",
       "    }\n",
       "</style>\n",
       "<table border=\"1\" class=\"dataframe\">\n",
       "  <thead>\n",
       "    <tr style=\"text-align: right;\">\n",
       "      <th></th>\n",
       "      <th>timestamp</th>\n",
       "      <th>symbol</th>\n",
       "      <th>title</th>\n",
       "      <th>price_at_new</th>\n",
       "      <th>symbol_swap</th>\n",
       "    </tr>\n",
       "  </thead>\n",
       "  <tbody>\n",
       "    <tr>\n",
       "      <th>45</th>\n",
       "      <td>2024-04-17 22:45:00+00:00</td>\n",
       "      <td>APT</td>\n",
       "      <td>The first liquid NFT on Aptos is here</td>\n",
       "      <td>9.2860</td>\n",
       "      <td>APT-USDT-SWAP</td>\n",
       "    </tr>\n",
       "    <tr>\n",
       "      <th>46</th>\n",
       "      <td>2024-04-17 15:45:00+00:00</td>\n",
       "      <td>FET</td>\n",
       "      <td>DeltaV &amp; AI Engine Upgrade lets you Chat to We...</td>\n",
       "      <td>1.9023</td>\n",
       "      <td>FET-USDT-SWAP</td>\n",
       "    </tr>\n",
       "    <tr>\n",
       "      <th>47</th>\n",
       "      <td>2024-04-17 15:02:00+00:00</td>\n",
       "      <td>SAND</td>\n",
       "      <td>BUILDERS BOOTCAMPS</td>\n",
       "      <td>0.4224</td>\n",
       "      <td>SAND-USDT-SWAP</td>\n",
       "    </tr>\n",
       "    <tr>\n",
       "      <th>48</th>\n",
       "      <td>2024-04-17 13:11:00+00:00</td>\n",
       "      <td>RON</td>\n",
       "      <td>BREAKING: RAGNAROK: MONSTER WORLD IS COMING TO...</td>\n",
       "      <td>3.0650</td>\n",
       "      <td>RON-USDT-SWAP</td>\n",
       "    </tr>\n",
       "    <tr>\n",
       "      <th>49</th>\n",
       "      <td>2024-04-17 13:08:00+00:00</td>\n",
       "      <td>ARB</td>\n",
       "      <td>Introducing Anomaly: AI-Powered Layer 3 for Ga...</td>\n",
       "      <td>1.1166</td>\n",
       "      <td>ARB-USDT-SWAP</td>\n",
       "    </tr>\n",
       "  </tbody>\n",
       "</table>\n",
       "</div>"
      ],
      "text/plain": [
       "                   timestamp symbol  \\\n",
       "45 2024-04-17 22:45:00+00:00    APT   \n",
       "46 2024-04-17 15:45:00+00:00    FET   \n",
       "47 2024-04-17 15:02:00+00:00   SAND   \n",
       "48 2024-04-17 13:11:00+00:00    RON   \n",
       "49 2024-04-17 13:08:00+00:00    ARB   \n",
       "\n",
       "                                                title  price_at_new  \\\n",
       "45              The first liquid NFT on Aptos is here        9.2860   \n",
       "46  DeltaV & AI Engine Upgrade lets you Chat to We...        1.9023   \n",
       "47                                 BUILDERS BOOTCAMPS        0.4224   \n",
       "48  BREAKING: RAGNAROK: MONSTER WORLD IS COMING TO...        3.0650   \n",
       "49  Introducing Anomaly: AI-Powered Layer 3 for Ga...        1.1166   \n",
       "\n",
       "       symbol_swap  \n",
       "45   APT-USDT-SWAP  \n",
       "46   FET-USDT-SWAP  \n",
       "47  SAND-USDT-SWAP  \n",
       "48   RON-USDT-SWAP  \n",
       "49   ARB-USDT-SWAP  "
      ]
     },
     "execution_count": 14,
     "metadata": {},
     "output_type": "execute_result"
    }
   ],
   "source": [
    "df_news.head(50).tail(5)"
   ]
  },
  {
   "cell_type": "code",
   "execution_count": 15,
   "id": "b48e5b4b-62e4-406d-a12c-3cb7d20035d1",
   "metadata": {
    "execution": {
     "iopub.execute_input": "2024-04-21T20:18:27.820496Z",
     "iopub.status.busy": "2024-04-21T20:18:27.820235Z",
     "iopub.status.idle": "2024-04-21T20:18:27.825373Z",
     "shell.execute_reply": "2024-04-21T20:18:27.824622Z",
     "shell.execute_reply.started": "2024-04-21T20:18:27.820477Z"
    }
   },
   "outputs": [
    {
     "data": {
      "text/plain": [
       "295"
      ]
     },
     "execution_count": 15,
     "metadata": {},
     "output_type": "execute_result"
    }
   ],
   "source": [
    "len(df_news.symbol.unique())"
   ]
  },
  {
   "cell_type": "code",
   "execution_count": 16,
   "id": "265af69f-5aca-4cff-9093-ec713056e90a",
   "metadata": {
    "execution": {
     "iopub.execute_input": "2024-04-21T20:18:28.181056Z",
     "iopub.status.busy": "2024-04-21T20:18:28.180723Z",
     "iopub.status.idle": "2024-04-21T20:18:28.187745Z",
     "shell.execute_reply": "2024-04-21T20:18:28.187014Z",
     "shell.execute_reply.started": "2024-04-21T20:18:28.181030Z"
    }
   },
   "outputs": [
    {
     "data": {
      "text/plain": [
       "array(['We just deployed 1.5M $USDT on @ton_blockchain. It is not an investment, it is only about increasing circulation supply of native USDT on the chain.  Scaling it up asap. LFG!',\n",
       "       'As predicted, #TetherTreasury minted 1B $USDT on #Ethereum 2 hours ago.',\n",
       "       'Exciting update! #USDT on #Solana is now supported on @travalacom  ✈️\\n🌎 Book your next adventure with faster, cheaper transactions. \\nDive into over 3 million travel products worldwide with $USDT on $SOL! 🏖🏨\\nStart planning your dream trip today! ',\n",
       "       'We’ve made the last payment of 57,456 $USDT to @modusdapp, finalizing our investment in its groundbreaking Real World Asset project.\\nBased in the United Kingdom, Modus gives access to fractionalized property development investment opportunities with tokenized #RWAs.\\nOffering… ',\n",
       "       'A smart whale spent 8.58M $USDT to buy 166 $WBTC at $51,797 today.\\nThe whale bought 4,913 $ETH($13.7M) at an average price of $1,262 and 186 $WBTC($9.64M) at an average price of $17,346 between Dec 13 and Dec 20, 2023, the profit is ~$13.9M at the current price. https://t.co/T7TUwti9Td'],\n",
       "      dtype=object)"
      ]
     },
     "execution_count": 16,
     "metadata": {},
     "output_type": "execute_result"
    }
   ],
   "source": [
    "df_news[df_news.symbol == 'USDT'].title.values"
   ]
  },
  {
   "cell_type": "code",
   "execution_count": 17,
   "id": "56bc4ee0-30be-4f4c-a9a8-5751e0e42f04",
   "metadata": {
    "execution": {
     "iopub.execute_input": "2024-04-21T20:18:32.425392Z",
     "iopub.status.busy": "2024-04-21T20:18:32.425156Z",
     "iopub.status.idle": "2024-04-21T20:18:32.436362Z",
     "shell.execute_reply": "2024-04-21T20:18:32.435867Z",
     "shell.execute_reply.started": "2024-04-21T20:18:32.425375Z"
    }
   },
   "outputs": [
    {
     "data": {
      "text/html": [
       "<div>\n",
       "<style scoped>\n",
       "    .dataframe tbody tr th:only-of-type {\n",
       "        vertical-align: middle;\n",
       "    }\n",
       "\n",
       "    .dataframe tbody tr th {\n",
       "        vertical-align: top;\n",
       "    }\n",
       "\n",
       "    .dataframe thead th {\n",
       "        text-align: right;\n",
       "    }\n",
       "</style>\n",
       "<table border=\"1\" class=\"dataframe\">\n",
       "  <thead>\n",
       "    <tr style=\"text-align: right;\">\n",
       "      <th></th>\n",
       "      <th></th>\n",
       "      <th>timestamp</th>\n",
       "      <th>price_at_new</th>\n",
       "      <th>symbol_swap</th>\n",
       "    </tr>\n",
       "    <tr>\n",
       "      <th>title</th>\n",
       "      <th>symbol</th>\n",
       "      <th></th>\n",
       "      <th></th>\n",
       "      <th></th>\n",
       "    </tr>\n",
       "  </thead>\n",
       "  <tbody>\n",
       "    <tr>\n",
       "      <th>Today's ZetaScan update lets users explore staking transactions on ZetaChain. More exciting optimizations for ZetaScan Explorer coming soon!</th>\n",
       "      <th>ZETA</th>\n",
       "      <td>1</td>\n",
       "      <td>1</td>\n",
       "      <td>1</td>\n",
       "    </tr>\n",
       "    <tr>\n",
       "      <th>Coinbase launches Learning Rewards and ZetaChain support on Coinbase Wallet to bring omnichain to…</th>\n",
       "      <th>ZETA</th>\n",
       "      <td>1</td>\n",
       "      <td>1</td>\n",
       "      <td>1</td>\n",
       "    </tr>\n",
       "    <tr>\n",
       "      <th>Tutorial: Bridge assets, Swap and LP (v3) on Zetachain via Sushi</th>\n",
       "      <th>ZETA</th>\n",
       "      <td>1</td>\n",
       "      <td>1</td>\n",
       "      <td>1</td>\n",
       "    </tr>\n",
       "    <tr>\n",
       "      <th>ZetaChain Launches Alchemy Pay’s Ramp Solution on Its Website for $ZETA Access</th>\n",
       "      <th>ZETA</th>\n",
       "      <td>2</td>\n",
       "      <td>2</td>\n",
       "      <td>2</td>\n",
       "    </tr>\n",
       "    <tr>\n",
       "      <th>ZetaChain and Galxe announce BTC drop for next generation Bitcoin Smart Contracts</th>\n",
       "      <th>ZETA</th>\n",
       "      <td>1</td>\n",
       "      <td>1</td>\n",
       "      <td>1</td>\n",
       "    </tr>\n",
       "    <tr>\n",
       "      <th>ZetaHub introduces XP for dApps</th>\n",
       "      <th>ZETA</th>\n",
       "      <td>1</td>\n",
       "      <td>1</td>\n",
       "      <td>1</td>\n",
       "    </tr>\n",
       "    <tr>\n",
       "      <th>We're excited to bring omnichain interoperability to @coin98_wallet users! Access all of crypto from one chain.</th>\n",
       "      <th>ZETA</th>\n",
       "      <td>1</td>\n",
       "      <td>1</td>\n",
       "      <td>1</td>\n",
       "    </tr>\n",
       "    <tr>\n",
       "      <th>ZilBridge back online following extended downtime</th>\n",
       "      <th>ZIL</th>\n",
       "      <td>1</td>\n",
       "      <td>1</td>\n",
       "      <td>1</td>\n",
       "    </tr>\n",
       "    <tr>\n",
       "      <th>Alchemy Pay Partners with ZKFair to Launch Fiat On-Ramp for Direct $ZKF Purchase</th>\n",
       "      <th>ZKF</th>\n",
       "      <td>1</td>\n",
       "      <td>1</td>\n",
       "      <td>1</td>\n",
       "    </tr>\n",
       "    <tr>\n",
       "      <th>Welcome aboard! We will also have a large campaign with @HoldstationW in a few days, stay tuned!!! \\n&gt;&gt;QUOTE Holdstation - Account Abstraction Wallet (∎, ∆) (@HoldstationW)\\n 📢  Exciting update!\\nWe've integrated with @ZKFCommunity, bringing ZKFair Chain - The first community ZK-Rollup based on Polygon CDK and Celestia DA to your #Holdstation Smart Wallet!\\nNow, you can switch network to #ZKF to track your tokens and NFTs directly on your wallet!</th>\n",
       "      <th>ZKF</th>\n",
       "      <td>1</td>\n",
       "      <td>1</td>\n",
       "      <td>1</td>\n",
       "    </tr>\n",
       "  </tbody>\n",
       "</table>\n",
       "</div>"
      ],
      "text/plain": [
       "                                                           timestamp  \\\n",
       "title                                              symbol              \n",
       "Today's ZetaScan update lets users explore stak... ZETA            1   \n",
       "Coinbase launches Learning Rewards and ZetaChai... ZETA            1   \n",
       "Tutorial: Bridge assets, Swap and LP (v3) on Ze... ZETA            1   \n",
       "ZetaChain Launches Alchemy Pay’s Ramp Solution ... ZETA            2   \n",
       "ZetaChain and Galxe announce BTC drop for next ... ZETA            1   \n",
       "ZetaHub introduces XP for dApps                    ZETA            1   \n",
       "We're excited to bring omnichain interoperabili... ZETA            1   \n",
       "ZilBridge back online following extended downtime  ZIL             1   \n",
       "Alchemy Pay Partners with ZKFair to Launch Fiat... ZKF             1   \n",
       "Welcome aboard! We will also have a large campa... ZKF             1   \n",
       "\n",
       "                                                           price_at_new  \\\n",
       "title                                              symbol                 \n",
       "Today's ZetaScan update lets users explore stak... ZETA               1   \n",
       "Coinbase launches Learning Rewards and ZetaChai... ZETA               1   \n",
       "Tutorial: Bridge assets, Swap and LP (v3) on Ze... ZETA               1   \n",
       "ZetaChain Launches Alchemy Pay’s Ramp Solution ... ZETA               2   \n",
       "ZetaChain and Galxe announce BTC drop for next ... ZETA               1   \n",
       "ZetaHub introduces XP for dApps                    ZETA               1   \n",
       "We're excited to bring omnichain interoperabili... ZETA               1   \n",
       "ZilBridge back online following extended downtime  ZIL                1   \n",
       "Alchemy Pay Partners with ZKFair to Launch Fiat... ZKF                1   \n",
       "Welcome aboard! We will also have a large campa... ZKF                1   \n",
       "\n",
       "                                                           symbol_swap  \n",
       "title                                              symbol               \n",
       "Today's ZetaScan update lets users explore stak... ZETA              1  \n",
       "Coinbase launches Learning Rewards and ZetaChai... ZETA              1  \n",
       "Tutorial: Bridge assets, Swap and LP (v3) on Ze... ZETA              1  \n",
       "ZetaChain Launches Alchemy Pay’s Ramp Solution ... ZETA              2  \n",
       "ZetaChain and Galxe announce BTC drop for next ... ZETA              1  \n",
       "ZetaHub introduces XP for dApps                    ZETA              1  \n",
       "We're excited to bring omnichain interoperabili... ZETA              1  \n",
       "ZilBridge back online following extended downtime  ZIL               1  \n",
       "Alchemy Pay Partners with ZKFair to Launch Fiat... ZKF               1  \n",
       "Welcome aboard! We will also have a large campa... ZKF               1  "
      ]
     },
     "execution_count": 17,
     "metadata": {},
     "output_type": "execute_result"
    }
   ],
   "source": [
    "df_news.groupby(['title', 'symbol']).count().sort_values('symbol').tail(10)"
   ]
  },
  {
   "cell_type": "code",
   "execution_count": null,
   "id": "ee81d546-9c68-426d-8faa-19b0a3993237",
   "metadata": {},
   "outputs": [],
   "source": []
  },
  {
   "cell_type": "code",
   "execution_count": 8,
   "id": "8153695c-0717-4404-8664-ba7d8868337d",
   "metadata": {
    "execution": {
     "iopub.execute_input": "2024-04-21T20:15:17.661612Z",
     "iopub.status.busy": "2024-04-21T20:15:17.661320Z",
     "iopub.status.idle": "2024-04-21T20:15:17.828126Z",
     "shell.execute_reply": "2024-04-21T20:15:17.827373Z",
     "shell.execute_reply.started": "2024-04-21T20:15:17.661586Z"
    }
   },
   "outputs": [
    {
     "data": {
      "text/plain": [
       "<module 'market_data.ingest.bq.cache' from '/home/junlim/projects/telegram_message/market_data/ingest/bq/cache.py'>"
      ]
     },
     "execution_count": 8,
     "metadata": {},
     "output_type": "execute_result"
    }
   ],
   "source": [
    "import market_data.ingest.bq.cache\n",
    "importlib.reload(market_data.ingest.bq.cache)"
   ]
  },
  {
   "cell_type": "code",
   "execution_count": 27,
   "id": "c33cc33d-1ad7-4c0f-b283-aaae24e6a7a6",
   "metadata": {
    "execution": {
     "iopub.execute_input": "2024-04-21T20:26:10.411301Z",
     "iopub.status.busy": "2024-04-21T20:26:10.411069Z",
     "iopub.status.idle": "2024-04-21T20:26:53.265353Z",
     "shell.execute_reply": "2024-04-21T20:26:53.264900Z",
     "shell.execute_reply.started": "2024-04-21T20:26:10.411281Z"
    },
    "scrolled": true
   },
   "outputs": [],
   "source": [
    "df_price = market_data.ingest.bq.cache.fetch_and_cache(\n",
    "    dataset_mode = market_data.ingest.bq.common.DATASET_MODE.OKX,\n",
    "    export_mode = market_data.ingest.bq.common.EXPORT_MODE.BY_MINUTE,\n",
    "    aggregation_mode = market_data.ingest.bq.common.AGGREGATION_MODE.TAKE_LASTEST,\n",
    "    date_str_from='2024-02-15', \n",
    "    date_str_to='2024-04-12',\n",
    ").reset_index()\n",
    "df_close = df.pivot(index='timestamp', columns='symbol', values='close')\n",
    "dfi = df.set_index(['timestamp', 'symbol'])"
   ]
  },
  {
   "cell_type": "code",
   "execution_count": null,
   "id": "90a9acfd-356c-4043-93ee-00d82ae3654e",
   "metadata": {},
   "outputs": [],
   "source": []
  },
  {
   "cell_type": "code",
   "execution_count": null,
   "id": "efc181e0-4d40-40a8-9166-6d7229390b5e",
   "metadata": {},
   "outputs": [],
   "source": []
  },
  {
   "cell_type": "code",
   "execution_count": 190,
   "id": "a3700db9-bbdd-4c9d-88b9-f77a42143809",
   "metadata": {
    "execution": {
     "iopub.execute_input": "2024-02-28T21:55:07.462210Z",
     "iopub.status.busy": "2024-02-28T21:55:07.460971Z",
     "iopub.status.idle": "2024-02-28T21:55:08.067747Z",
     "shell.execute_reply": "2024-02-28T21:55:08.067107Z",
     "shell.execute_reply.started": "2024-02-28T21:55:07.462133Z"
    }
   },
   "outputs": [
    {
     "data": {
      "text/plain": [
       "<module 'data.okx.read' from '/home/junlim/projects/telegram_message/data/okx/read.py'>"
      ]
     },
     "execution_count": 190,
     "metadata": {},
     "output_type": "execute_result"
    }
   ],
   "source": [
    "import data.okx.read\n",
    "import importlib\n",
    "importlib.reload(data.okx.read)"
   ]
  },
  {
   "cell_type": "code",
   "execution_count": 28,
   "id": "9ab5ec9c-9806-42ba-af8f-a9edb36a8ef9",
   "metadata": {
    "execution": {
     "iopub.execute_input": "2024-04-21T20:26:53.266268Z",
     "iopub.status.busy": "2024-04-21T20:26:53.266078Z",
     "iopub.status.idle": "2024-04-21T20:26:53.274772Z",
     "shell.execute_reply": "2024-04-21T20:26:53.274421Z",
     "shell.execute_reply.started": "2024-04-21T20:26:53.266256Z"
    }
   },
   "outputs": [
    {
     "data": {
      "text/html": [
       "<div>\n",
       "<style scoped>\n",
       "    .dataframe tbody tr th:only-of-type {\n",
       "        vertical-align: middle;\n",
       "    }\n",
       "\n",
       "    .dataframe tbody tr th {\n",
       "        vertical-align: top;\n",
       "    }\n",
       "\n",
       "    .dataframe thead th {\n",
       "        text-align: right;\n",
       "    }\n",
       "</style>\n",
       "<table border=\"1\" class=\"dataframe\">\n",
       "  <thead>\n",
       "    <tr style=\"text-align: right;\">\n",
       "      <th></th>\n",
       "      <th>index</th>\n",
       "      <th>symbol</th>\n",
       "      <th>timestamp</th>\n",
       "      <th>open</th>\n",
       "      <th>high</th>\n",
       "      <th>low</th>\n",
       "      <th>close</th>\n",
       "      <th>volume</th>\n",
       "    </tr>\n",
       "  </thead>\n",
       "  <tbody>\n",
       "    <tr>\n",
       "      <th>0</th>\n",
       "      <td>0</td>\n",
       "      <td>1INCH-USD-SWAP</td>\n",
       "      <td>2024-02-15 00:00:00-05:00</td>\n",
       "      <td>0.4477</td>\n",
       "      <td>0.4477</td>\n",
       "      <td>0.4477</td>\n",
       "      <td>0.4477</td>\n",
       "      <td>0.0</td>\n",
       "    </tr>\n",
       "    <tr>\n",
       "      <th>1</th>\n",
       "      <td>1</td>\n",
       "      <td>1INCH-USD-SWAP</td>\n",
       "      <td>2024-02-15 00:01:00-05:00</td>\n",
       "      <td>0.4477</td>\n",
       "      <td>0.4477</td>\n",
       "      <td>0.4477</td>\n",
       "      <td>0.4477</td>\n",
       "      <td>0.0</td>\n",
       "    </tr>\n",
       "    <tr>\n",
       "      <th>2</th>\n",
       "      <td>2</td>\n",
       "      <td>1INCH-USD-SWAP</td>\n",
       "      <td>2024-02-15 00:02:00-05:00</td>\n",
       "      <td>0.4477</td>\n",
       "      <td>0.4477</td>\n",
       "      <td>0.4477</td>\n",
       "      <td>0.4477</td>\n",
       "      <td>0.0</td>\n",
       "    </tr>\n",
       "    <tr>\n",
       "      <th>3</th>\n",
       "      <td>3</td>\n",
       "      <td>1INCH-USD-SWAP</td>\n",
       "      <td>2024-02-15 00:03:00-05:00</td>\n",
       "      <td>0.4477</td>\n",
       "      <td>0.4477</td>\n",
       "      <td>0.4477</td>\n",
       "      <td>0.4477</td>\n",
       "      <td>0.0</td>\n",
       "    </tr>\n",
       "    <tr>\n",
       "      <th>4</th>\n",
       "      <td>4</td>\n",
       "      <td>1INCH-USD-SWAP</td>\n",
       "      <td>2024-02-15 00:04:00-05:00</td>\n",
       "      <td>0.4477</td>\n",
       "      <td>0.4477</td>\n",
       "      <td>0.4477</td>\n",
       "      <td>0.4477</td>\n",
       "      <td>0.0</td>\n",
       "    </tr>\n",
       "    <tr>\n",
       "      <th>...</th>\n",
       "      <td>...</td>\n",
       "      <td>...</td>\n",
       "      <td>...</td>\n",
       "      <td>...</td>\n",
       "      <td>...</td>\n",
       "      <td>...</td>\n",
       "      <td>...</td>\n",
       "      <td>...</td>\n",
       "    </tr>\n",
       "    <tr>\n",
       "      <th>17024346</th>\n",
       "      <td>17024346</td>\n",
       "      <td>ZRX-USDT-SWAP</td>\n",
       "      <td>2024-04-11 23:55:00-04:00</td>\n",
       "      <td>0.6419</td>\n",
       "      <td>0.6426</td>\n",
       "      <td>0.6419</td>\n",
       "      <td>0.6426</td>\n",
       "      <td>3910.0</td>\n",
       "    </tr>\n",
       "    <tr>\n",
       "      <th>17024347</th>\n",
       "      <td>17024347</td>\n",
       "      <td>ZRX-USDT-SWAP</td>\n",
       "      <td>2024-04-11 23:56:00-04:00</td>\n",
       "      <td>0.6426</td>\n",
       "      <td>0.6428</td>\n",
       "      <td>0.6426</td>\n",
       "      <td>0.6428</td>\n",
       "      <td>1910.0</td>\n",
       "    </tr>\n",
       "    <tr>\n",
       "      <th>17024348</th>\n",
       "      <td>17024348</td>\n",
       "      <td>ZRX-USDT-SWAP</td>\n",
       "      <td>2024-04-11 23:57:00-04:00</td>\n",
       "      <td>0.6428</td>\n",
       "      <td>0.6428</td>\n",
       "      <td>0.6427</td>\n",
       "      <td>0.6427</td>\n",
       "      <td>12680.0</td>\n",
       "    </tr>\n",
       "    <tr>\n",
       "      <th>17024349</th>\n",
       "      <td>17024349</td>\n",
       "      <td>ZRX-USDT-SWAP</td>\n",
       "      <td>2024-04-11 23:58:00-04:00</td>\n",
       "      <td>0.6427</td>\n",
       "      <td>0.6435</td>\n",
       "      <td>0.6427</td>\n",
       "      <td>0.6435</td>\n",
       "      <td>3690.0</td>\n",
       "    </tr>\n",
       "    <tr>\n",
       "      <th>17024350</th>\n",
       "      <td>17024350</td>\n",
       "      <td>ZRX-USDT-SWAP</td>\n",
       "      <td>2024-04-11 23:59:00-04:00</td>\n",
       "      <td>0.6437</td>\n",
       "      <td>0.6438</td>\n",
       "      <td>0.6437</td>\n",
       "      <td>0.6438</td>\n",
       "      <td>620.0</td>\n",
       "    </tr>\n",
       "  </tbody>\n",
       "</table>\n",
       "<p>17024351 rows × 8 columns</p>\n",
       "</div>"
      ],
      "text/plain": [
       "             index          symbol                 timestamp    open    high  \\\n",
       "0                0  1INCH-USD-SWAP 2024-02-15 00:00:00-05:00  0.4477  0.4477   \n",
       "1                1  1INCH-USD-SWAP 2024-02-15 00:01:00-05:00  0.4477  0.4477   \n",
       "2                2  1INCH-USD-SWAP 2024-02-15 00:02:00-05:00  0.4477  0.4477   \n",
       "3                3  1INCH-USD-SWAP 2024-02-15 00:03:00-05:00  0.4477  0.4477   \n",
       "4                4  1INCH-USD-SWAP 2024-02-15 00:04:00-05:00  0.4477  0.4477   \n",
       "...            ...             ...                       ...     ...     ...   \n",
       "17024346  17024346   ZRX-USDT-SWAP 2024-04-11 23:55:00-04:00  0.6419  0.6426   \n",
       "17024347  17024347   ZRX-USDT-SWAP 2024-04-11 23:56:00-04:00  0.6426  0.6428   \n",
       "17024348  17024348   ZRX-USDT-SWAP 2024-04-11 23:57:00-04:00  0.6428  0.6428   \n",
       "17024349  17024349   ZRX-USDT-SWAP 2024-04-11 23:58:00-04:00  0.6427  0.6435   \n",
       "17024350  17024350   ZRX-USDT-SWAP 2024-04-11 23:59:00-04:00  0.6437  0.6438   \n",
       "\n",
       "             low   close   volume  \n",
       "0         0.4477  0.4477      0.0  \n",
       "1         0.4477  0.4477      0.0  \n",
       "2         0.4477  0.4477      0.0  \n",
       "3         0.4477  0.4477      0.0  \n",
       "4         0.4477  0.4477      0.0  \n",
       "...          ...     ...      ...  \n",
       "17024346  0.6419  0.6426   3910.0  \n",
       "17024347  0.6426  0.6428   1910.0  \n",
       "17024348  0.6427  0.6427  12680.0  \n",
       "17024349  0.6427  0.6435   3690.0  \n",
       "17024350  0.6437  0.6438    620.0  \n",
       "\n",
       "[17024351 rows x 8 columns]"
      ]
     },
     "execution_count": 28,
     "metadata": {},
     "output_type": "execute_result"
    }
   ],
   "source": [
    "df_price"
   ]
  },
  {
   "cell_type": "code",
   "execution_count": null,
   "id": "113811c0-8708-4910-b4af-54f3287a85f6",
   "metadata": {},
   "outputs": [],
   "source": []
  },
  {
   "cell_type": "code",
   "execution_count": 29,
   "id": "3c669d4d-0177-4990-92cc-b30ec1dbbe24",
   "metadata": {
    "execution": {
     "iopub.execute_input": "2024-04-21T20:26:53.275364Z",
     "iopub.status.busy": "2024-04-21T20:26:53.275232Z",
     "iopub.status.idle": "2024-04-21T20:26:53.857571Z",
     "shell.execute_reply": "2024-04-21T20:26:53.856955Z",
     "shell.execute_reply.started": "2024-04-21T20:26:53.275353Z"
    }
   },
   "outputs": [
    {
     "data": {
      "text/html": [
       "<div>\n",
       "<style scoped>\n",
       "    .dataframe tbody tr th:only-of-type {\n",
       "        vertical-align: middle;\n",
       "    }\n",
       "\n",
       "    .dataframe tbody tr th {\n",
       "        vertical-align: top;\n",
       "    }\n",
       "\n",
       "    .dataframe thead th {\n",
       "        text-align: right;\n",
       "    }\n",
       "</style>\n",
       "<table border=\"1\" class=\"dataframe\">\n",
       "  <thead>\n",
       "    <tr style=\"text-align: right;\">\n",
       "      <th></th>\n",
       "      <th>index</th>\n",
       "      <th>symbol</th>\n",
       "      <th>timestamp</th>\n",
       "      <th>open</th>\n",
       "      <th>high</th>\n",
       "      <th>low</th>\n",
       "      <th>close</th>\n",
       "      <th>volume</th>\n",
       "    </tr>\n",
       "  </thead>\n",
       "  <tbody>\n",
       "    <tr>\n",
       "      <th>164040</th>\n",
       "      <td>164040</td>\n",
       "      <td>AAVE-USDT-SWAP</td>\n",
       "      <td>2024-02-15 00:00:00-05:00</td>\n",
       "      <td>91.63</td>\n",
       "      <td>91.63</td>\n",
       "      <td>91.57</td>\n",
       "      <td>91.61</td>\n",
       "      <td>54.0</td>\n",
       "    </tr>\n",
       "    <tr>\n",
       "      <th>164041</th>\n",
       "      <td>164041</td>\n",
       "      <td>AAVE-USDT-SWAP</td>\n",
       "      <td>2024-02-15 00:01:00-05:00</td>\n",
       "      <td>91.58</td>\n",
       "      <td>91.58</td>\n",
       "      <td>91.45</td>\n",
       "      <td>91.49</td>\n",
       "      <td>101.8</td>\n",
       "    </tr>\n",
       "    <tr>\n",
       "      <th>164042</th>\n",
       "      <td>164042</td>\n",
       "      <td>AAVE-USDT-SWAP</td>\n",
       "      <td>2024-02-15 00:02:00-05:00</td>\n",
       "      <td>91.50</td>\n",
       "      <td>91.63</td>\n",
       "      <td>91.49</td>\n",
       "      <td>91.63</td>\n",
       "      <td>15.5</td>\n",
       "    </tr>\n",
       "    <tr>\n",
       "      <th>164043</th>\n",
       "      <td>164043</td>\n",
       "      <td>AAVE-USDT-SWAP</td>\n",
       "      <td>2024-02-15 00:03:00-05:00</td>\n",
       "      <td>91.63</td>\n",
       "      <td>91.65</td>\n",
       "      <td>91.56</td>\n",
       "      <td>91.56</td>\n",
       "      <td>48.5</td>\n",
       "    </tr>\n",
       "    <tr>\n",
       "      <th>164044</th>\n",
       "      <td>164044</td>\n",
       "      <td>AAVE-USDT-SWAP</td>\n",
       "      <td>2024-02-15 00:04:00-05:00</td>\n",
       "      <td>91.57</td>\n",
       "      <td>91.57</td>\n",
       "      <td>91.47</td>\n",
       "      <td>91.54</td>\n",
       "      <td>32.2</td>\n",
       "    </tr>\n",
       "    <tr>\n",
       "      <th>...</th>\n",
       "      <td>...</td>\n",
       "      <td>...</td>\n",
       "      <td>...</td>\n",
       "      <td>...</td>\n",
       "      <td>...</td>\n",
       "      <td>...</td>\n",
       "      <td>...</td>\n",
       "      <td>...</td>\n",
       "    </tr>\n",
       "    <tr>\n",
       "      <th>246055</th>\n",
       "      <td>246055</td>\n",
       "      <td>AAVE-USDT-SWAP</td>\n",
       "      <td>2024-04-11 23:55:00-04:00</td>\n",
       "      <td>119.08</td>\n",
       "      <td>119.19</td>\n",
       "      <td>119.08</td>\n",
       "      <td>119.15</td>\n",
       "      <td>25.7</td>\n",
       "    </tr>\n",
       "    <tr>\n",
       "      <th>246056</th>\n",
       "      <td>246056</td>\n",
       "      <td>AAVE-USDT-SWAP</td>\n",
       "      <td>2024-04-11 23:56:00-04:00</td>\n",
       "      <td>119.17</td>\n",
       "      <td>119.25</td>\n",
       "      <td>119.17</td>\n",
       "      <td>119.22</td>\n",
       "      <td>12.2</td>\n",
       "    </tr>\n",
       "    <tr>\n",
       "      <th>246057</th>\n",
       "      <td>246057</td>\n",
       "      <td>AAVE-USDT-SWAP</td>\n",
       "      <td>2024-04-11 23:57:00-04:00</td>\n",
       "      <td>119.26</td>\n",
       "      <td>119.28</td>\n",
       "      <td>119.25</td>\n",
       "      <td>119.28</td>\n",
       "      <td>7.2</td>\n",
       "    </tr>\n",
       "    <tr>\n",
       "      <th>246058</th>\n",
       "      <td>246058</td>\n",
       "      <td>AAVE-USDT-SWAP</td>\n",
       "      <td>2024-04-11 23:58:00-04:00</td>\n",
       "      <td>119.29</td>\n",
       "      <td>119.61</td>\n",
       "      <td>119.29</td>\n",
       "      <td>119.57</td>\n",
       "      <td>138.5</td>\n",
       "    </tr>\n",
       "    <tr>\n",
       "      <th>246059</th>\n",
       "      <td>246059</td>\n",
       "      <td>AAVE-USDT-SWAP</td>\n",
       "      <td>2024-04-11 23:59:00-04:00</td>\n",
       "      <td>119.57</td>\n",
       "      <td>119.57</td>\n",
       "      <td>119.52</td>\n",
       "      <td>119.54</td>\n",
       "      <td>62.9</td>\n",
       "    </tr>\n",
       "  </tbody>\n",
       "</table>\n",
       "<p>82020 rows × 8 columns</p>\n",
       "</div>"
      ],
      "text/plain": [
       "         index          symbol                 timestamp    open    high  \\\n",
       "164040  164040  AAVE-USDT-SWAP 2024-02-15 00:00:00-05:00   91.63   91.63   \n",
       "164041  164041  AAVE-USDT-SWAP 2024-02-15 00:01:00-05:00   91.58   91.58   \n",
       "164042  164042  AAVE-USDT-SWAP 2024-02-15 00:02:00-05:00   91.50   91.63   \n",
       "164043  164043  AAVE-USDT-SWAP 2024-02-15 00:03:00-05:00   91.63   91.65   \n",
       "164044  164044  AAVE-USDT-SWAP 2024-02-15 00:04:00-05:00   91.57   91.57   \n",
       "...        ...             ...                       ...     ...     ...   \n",
       "246055  246055  AAVE-USDT-SWAP 2024-04-11 23:55:00-04:00  119.08  119.19   \n",
       "246056  246056  AAVE-USDT-SWAP 2024-04-11 23:56:00-04:00  119.17  119.25   \n",
       "246057  246057  AAVE-USDT-SWAP 2024-04-11 23:57:00-04:00  119.26  119.28   \n",
       "246058  246058  AAVE-USDT-SWAP 2024-04-11 23:58:00-04:00  119.29  119.61   \n",
       "246059  246059  AAVE-USDT-SWAP 2024-04-11 23:59:00-04:00  119.57  119.57   \n",
       "\n",
       "           low   close  volume  \n",
       "164040   91.57   91.61    54.0  \n",
       "164041   91.45   91.49   101.8  \n",
       "164042   91.49   91.63    15.5  \n",
       "164043   91.56   91.56    48.5  \n",
       "164044   91.47   91.54    32.2  \n",
       "...        ...     ...     ...  \n",
       "246055  119.08  119.15    25.7  \n",
       "246056  119.17  119.22    12.2  \n",
       "246057  119.25  119.28     7.2  \n",
       "246058  119.29  119.57   138.5  \n",
       "246059  119.52  119.54    62.9  \n",
       "\n",
       "[82020 rows x 8 columns]"
      ]
     },
     "execution_count": 29,
     "metadata": {},
     "output_type": "execute_result"
    }
   ],
   "source": [
    "df_price[df_price.symbol == 'AAVE-USDT-SWAP']"
   ]
  },
  {
   "cell_type": "code",
   "execution_count": null,
   "id": "0e2cd95e-1a18-40b3-8d95-69c793c58589",
   "metadata": {},
   "outputs": [],
   "source": []
  },
  {
   "cell_type": "code",
   "execution_count": 30,
   "id": "500720f0-9f81-4bf7-96ee-2e19c4b96c98",
   "metadata": {
    "execution": {
     "iopub.execute_input": "2024-04-21T20:26:53.859012Z",
     "iopub.status.busy": "2024-04-21T20:26:53.858847Z",
     "iopub.status.idle": "2024-04-21T20:26:54.410422Z",
     "shell.execute_reply": "2024-04-21T20:26:54.409811Z",
     "shell.execute_reply.started": "2024-04-21T20:26:53.858995Z"
    }
   },
   "outputs": [],
   "source": [
    "dfs = df_price[df_price.symbol == 'AAVE-USDT-SWAP'].set_index('timestamp').drop(columns=['symbol'])"
   ]
  },
  {
   "cell_type": "code",
   "execution_count": 31,
   "id": "40c10f83-7ca8-418c-957a-92ef7de5f879",
   "metadata": {
    "execution": {
     "iopub.execute_input": "2024-04-21T20:26:54.411514Z",
     "iopub.status.busy": "2024-04-21T20:26:54.411268Z",
     "iopub.status.idle": "2024-04-21T20:26:54.419015Z",
     "shell.execute_reply": "2024-04-21T20:26:54.418195Z",
     "shell.execute_reply.started": "2024-04-21T20:26:54.411495Z"
    }
   },
   "outputs": [
    {
     "data": {
      "text/plain": [
       "<module 'algo.calculate' from '/home/junlim/projects/telegram_message/algo/calculate.py'>"
      ]
     },
     "execution_count": 31,
     "metadata": {},
     "output_type": "execute_result"
    }
   ],
   "source": [
    "import algo.research\n",
    "importlib.reload(algo.research)\n",
    "importlib.reload(algo.calculate)"
   ]
  },
  {
   "cell_type": "code",
   "execution_count": null,
   "id": "302e8368-7285-48a1-b57e-76e608f1f2cc",
   "metadata": {},
   "outputs": [],
   "source": [
    "# data.okx.read.df_okx_20240216_0228"
   ]
  },
  {
   "cell_type": "code",
   "execution_count": 32,
   "id": "c911a5d9-19b5-493c-a176-4f132abb5ea6",
   "metadata": {
    "execution": {
     "iopub.execute_input": "2024-04-21T20:26:54.420740Z",
     "iopub.status.busy": "2024-04-21T20:26:54.420205Z",
     "iopub.status.idle": "2024-04-21T20:27:17.778806Z",
     "shell.execute_reply": "2024-04-21T20:27:17.778179Z",
     "shell.execute_reply.started": "2024-04-21T20:26:54.420712Z"
    }
   },
   "outputs": [],
   "source": [
    "dfsts = algo.research.get_dfsts(df_price)"
   ]
  },
  {
   "cell_type": "code",
   "execution_count": null,
   "id": "90fe619e-045d-4b12-9ec1-5e4cbac44e19",
   "metadata": {},
   "outputs": [],
   "source": []
  },
  {
   "cell_type": "code",
   "execution_count": 33,
   "id": "45048e68-00dd-4864-b658-b4ba346c12ff",
   "metadata": {
    "execution": {
     "iopub.execute_input": "2024-04-21T20:28:38.597058Z",
     "iopub.status.busy": "2024-04-21T20:28:38.596866Z",
     "iopub.status.idle": "2024-04-21T20:28:38.621272Z",
     "shell.execute_reply": "2024-04-21T20:28:38.619845Z",
     "shell.execute_reply.started": "2024-04-21T20:28:38.597044Z"
    }
   },
   "outputs": [
    {
     "data": {
      "text/html": [
       "<div>\n",
       "<style scoped>\n",
       "    .dataframe tbody tr th:only-of-type {\n",
       "        vertical-align: middle;\n",
       "    }\n",
       "\n",
       "    .dataframe tbody tr th {\n",
       "        vertical-align: top;\n",
       "    }\n",
       "\n",
       "    .dataframe thead th {\n",
       "        text-align: right;\n",
       "    }\n",
       "</style>\n",
       "<table border=\"1\" class=\"dataframe\">\n",
       "  <thead>\n",
       "    <tr style=\"text-align: right;\">\n",
       "      <th></th>\n",
       "      <th>timestamp</th>\n",
       "      <th>symbol</th>\n",
       "      <th>title</th>\n",
       "      <th>price_at_new</th>\n",
       "      <th>symbol_swap</th>\n",
       "    </tr>\n",
       "  </thead>\n",
       "  <tbody>\n",
       "    <tr>\n",
       "      <th>0</th>\n",
       "      <td>2024-04-21 16:22:00+00:00</td>\n",
       "      <td>TON</td>\n",
       "      <td>We just deployed 1.5M $USDT on @ton_blockchain...</td>\n",
       "      <td>6.06770</td>\n",
       "      <td>TON-USDT-SWAP</td>\n",
       "    </tr>\n",
       "    <tr>\n",
       "      <th>1</th>\n",
       "      <td>2024-04-21 16:22:00+00:00</td>\n",
       "      <td>USDT</td>\n",
       "      <td>We just deployed 1.5M $USDT on @ton_blockchain...</td>\n",
       "      <td>6.06770</td>\n",
       "      <td>USDT-USDT-SWAP</td>\n",
       "    </tr>\n",
       "    <tr>\n",
       "      <th>2</th>\n",
       "      <td>2024-04-21 13:09:00+00:00</td>\n",
       "      <td>AERGO</td>\n",
       "      <td>Booost v3.0 App upgrade/update coming soooon!</td>\n",
       "      <td>0.14780</td>\n",
       "      <td>AERGO-USDT-SWAP</td>\n",
       "    </tr>\n",
       "    <tr>\n",
       "      <th>3</th>\n",
       "      <td>2024-04-21 12:18:00+00:00</td>\n",
       "      <td>UNI</td>\n",
       "      <td>We are adding more liquidity on Uniswap</td>\n",
       "      <td>7.79700</td>\n",
       "      <td>UNI-USDT-SWAP</td>\n",
       "    </tr>\n",
       "    <tr>\n",
       "      <th>4</th>\n",
       "      <td>2024-04-20 16:15:00+00:00</td>\n",
       "      <td>CHZ</td>\n",
       "      <td>Another milestone for @chiliz chain in South K...</td>\n",
       "      <td>0.11518</td>\n",
       "      <td>CHZ-USDT-SWAP</td>\n",
       "    </tr>\n",
       "    <tr>\n",
       "      <th>...</th>\n",
       "      <td>...</td>\n",
       "      <td>...</td>\n",
       "      <td>...</td>\n",
       "      <td>...</td>\n",
       "      <td>...</td>\n",
       "    </tr>\n",
       "    <tr>\n",
       "      <th>1469</th>\n",
       "      <td>2024-02-15 18:08:00+00:00</td>\n",
       "      <td>BTC</td>\n",
       "      <td>Federal Court Orders Oregon Resident and His F...</td>\n",
       "      <td>52010.05000</td>\n",
       "      <td>BTC-USDT-SWAP</td>\n",
       "    </tr>\n",
       "    <tr>\n",
       "      <th>1470</th>\n",
       "      <td>2024-02-15 18:03:00+00:00</td>\n",
       "      <td>AVAX</td>\n",
       "      <td>Avalanche Named Exclusive Sponsor of Collider ...</td>\n",
       "      <td>41.79000</td>\n",
       "      <td>AVAX-USDT-SWAP</td>\n",
       "    </tr>\n",
       "    <tr>\n",
       "      <th>1471</th>\n",
       "      <td>2024-02-15 17:19:00+00:00</td>\n",
       "      <td>SUI</td>\n",
       "      <td>Sui Revealed as Top Destination for DeFi Inflo...</td>\n",
       "      <td>1.84600</td>\n",
       "      <td>SUI-USDT-SWAP</td>\n",
       "    </tr>\n",
       "    <tr>\n",
       "      <th>1472</th>\n",
       "      <td>2024-02-15 16:11:00+00:00</td>\n",
       "      <td>BTC</td>\n",
       "      <td>Elon adds $BTC tip jar for all twitter users</td>\n",
       "      <td>51280.61400</td>\n",
       "      <td>BTC-USDT-SWAP</td>\n",
       "    </tr>\n",
       "    <tr>\n",
       "      <th>1473</th>\n",
       "      <td>2024-02-15 16:11:00+00:00</td>\n",
       "      <td>BTC</td>\n",
       "      <td>Elon adds $BTC tip jar for all twitter users</td>\n",
       "      <td>51280.61400</td>\n",
       "      <td>BTC-USDT-SWAP</td>\n",
       "    </tr>\n",
       "  </tbody>\n",
       "</table>\n",
       "<p>1474 rows × 5 columns</p>\n",
       "</div>"
      ],
      "text/plain": [
       "                     timestamp symbol  \\\n",
       "0    2024-04-21 16:22:00+00:00    TON   \n",
       "1    2024-04-21 16:22:00+00:00   USDT   \n",
       "2    2024-04-21 13:09:00+00:00  AERGO   \n",
       "3    2024-04-21 12:18:00+00:00    UNI   \n",
       "4    2024-04-20 16:15:00+00:00    CHZ   \n",
       "...                        ...    ...   \n",
       "1469 2024-02-15 18:08:00+00:00    BTC   \n",
       "1470 2024-02-15 18:03:00+00:00   AVAX   \n",
       "1471 2024-02-15 17:19:00+00:00    SUI   \n",
       "1472 2024-02-15 16:11:00+00:00    BTC   \n",
       "1473 2024-02-15 16:11:00+00:00    BTC   \n",
       "\n",
       "                                                  title  price_at_new  \\\n",
       "0     We just deployed 1.5M $USDT on @ton_blockchain...       6.06770   \n",
       "1     We just deployed 1.5M $USDT on @ton_blockchain...       6.06770   \n",
       "2         Booost v3.0 App upgrade/update coming soooon!       0.14780   \n",
       "3               We are adding more liquidity on Uniswap       7.79700   \n",
       "4     Another milestone for @chiliz chain in South K...       0.11518   \n",
       "...                                                 ...           ...   \n",
       "1469  Federal Court Orders Oregon Resident and His F...   52010.05000   \n",
       "1470  Avalanche Named Exclusive Sponsor of Collider ...      41.79000   \n",
       "1471  Sui Revealed as Top Destination for DeFi Inflo...       1.84600   \n",
       "1472       Elon adds $BTC tip jar for all twitter users   51280.61400   \n",
       "1473       Elon adds $BTC tip jar for all twitter users   51280.61400   \n",
       "\n",
       "          symbol_swap  \n",
       "0       TON-USDT-SWAP  \n",
       "1      USDT-USDT-SWAP  \n",
       "2     AERGO-USDT-SWAP  \n",
       "3       UNI-USDT-SWAP  \n",
       "4       CHZ-USDT-SWAP  \n",
       "...               ...  \n",
       "1469    BTC-USDT-SWAP  \n",
       "1470   AVAX-USDT-SWAP  \n",
       "1471    SUI-USDT-SWAP  \n",
       "1472    BTC-USDT-SWAP  \n",
       "1473    BTC-USDT-SWAP  \n",
       "\n",
       "[1474 rows x 5 columns]"
      ]
     },
     "execution_count": 33,
     "metadata": {},
     "output_type": "execute_result"
    }
   ],
   "source": [
    "df_news"
   ]
  },
  {
   "cell_type": "code",
   "execution_count": 35,
   "id": "038a78bd-9eb0-42fa-94ee-8a3fb93356a3",
   "metadata": {
    "execution": {
     "iopub.execute_input": "2024-04-21T20:28:57.016930Z",
     "iopub.status.busy": "2024-04-21T20:28:57.015607Z",
     "iopub.status.idle": "2024-04-21T20:29:58.449204Z",
     "shell.execute_reply": "2024-04-21T20:29:58.447098Z",
     "shell.execute_reply.started": "2024-04-21T20:28:57.016841Z"
    },
    "scrolled": true
   },
   "outputs": [],
   "source": [
    "df_news_feature = df_news.merge(dfsts, left_on=[\"symbol_swap\", \"timestamp\"], right_on=[\"symbol\", 'timestamp'])"
   ]
  },
  {
   "cell_type": "code",
   "execution_count": 37,
   "id": "73ffef71-4d2e-476e-8197-8493742b62dd",
   "metadata": {
    "execution": {
     "iopub.execute_input": "2024-04-21T20:30:06.545960Z",
     "iopub.status.busy": "2024-04-21T20:30:06.544042Z",
     "iopub.status.idle": "2024-04-21T20:30:06.564190Z",
     "shell.execute_reply": "2024-04-21T20:30:06.561890Z",
     "shell.execute_reply.started": "2024-04-21T20:30:06.545833Z"
    }
   },
   "outputs": [
    {
     "data": {
      "text/plain": [
       "(821, 29)"
      ]
     },
     "execution_count": 37,
     "metadata": {},
     "output_type": "execute_result"
    }
   ],
   "source": [
    "df_news_feature.shape"
   ]
  },
  {
   "cell_type": "code",
   "execution_count": null,
   "id": "7f84aa4b-79d2-4649-b568-2bd5de24988b",
   "metadata": {},
   "outputs": [],
   "source": []
  },
  {
   "cell_type": "code",
   "execution_count": 38,
   "id": "ed91bdb1-3111-487a-aae2-061680973f7f",
   "metadata": {
    "execution": {
     "iopub.execute_input": "2024-04-21T20:30:16.699213Z",
     "iopub.status.busy": "2024-04-21T20:30:16.698847Z",
     "iopub.status.idle": "2024-04-21T20:30:17.090195Z",
     "shell.execute_reply": "2024-04-21T20:30:17.089510Z",
     "shell.execute_reply.started": "2024-04-21T20:30:16.699189Z"
    }
   },
   "outputs": [
    {
     "data": {
      "text/plain": [
       "<Axes: xlabel='timestamp'>"
      ]
     },
     "execution_count": 38,
     "metadata": {},
     "output_type": "execute_result"
    },
    {
     "data": {
      "image/png": "[encoded data removed]",
      "text/plain": [
       "<Figure size 640x480 with 1 Axes>"
      ]
     },
     "metadata": {},
     "output_type": "display_data"
    }
   ],
   "source": [
    "df_news_feature.set_index('timestamp')[['change_5min_backward']].plot()"
   ]
  },
  {
   "cell_type": "code",
   "execution_count": 39,
   "id": "60f4145d-b679-473b-b483-809c3d4c96e3",
   "metadata": {
    "execution": {
     "iopub.execute_input": "2024-04-21T20:30:23.029180Z",
     "iopub.status.busy": "2024-04-21T20:30:23.027595Z",
     "iopub.status.idle": "2024-04-21T20:30:23.405219Z",
     "shell.execute_reply": "2024-04-21T20:30:23.403768Z",
     "shell.execute_reply.started": "2024-04-21T20:30:23.029078Z"
    }
   },
   "outputs": [
    {
     "data": {
      "text/plain": [
       "<Axes: xlabel='timestamp'>"
      ]
     },
     "execution_count": 39,
     "metadata": {},
     "output_type": "execute_result"
    },
    {
     "data": {
      "image/png": "[encoded data removed]",
      "text/plain": [
       "<Figure size 640x480 with 1 Axes>"
      ]
     },
     "metadata": {},
     "output_type": "display_data"
    }
   ],
   "source": [
    "df_news_feature.set_index('timestamp')[['change_5min_forward']].plot()"
   ]
  },
  {
   "cell_type": "code",
   "execution_count": null,
   "id": "459d1070-64b7-4077-a22d-528dee5e1679",
   "metadata": {},
   "outputs": [],
   "source": []
  },
  {
   "cell_type": "code",
   "execution_count": 40,
   "id": "d8c62d99-b708-4375-9be7-f6516d6c81ed",
   "metadata": {
    "execution": {
     "iopub.execute_input": "2024-04-21T20:30:31.961326Z",
     "iopub.status.busy": "2024-04-21T20:30:31.960859Z",
     "iopub.status.idle": "2024-04-21T20:30:32.315621Z",
     "shell.execute_reply": "2024-04-21T20:30:32.314135Z",
     "shell.execute_reply.started": "2024-04-21T20:30:31.961285Z"
    }
   },
   "outputs": [
    {
     "data": {
      "text/plain": [
       "array([[<Axes: title={'center': 'change_120min_forward'}>]], dtype=object)"
      ]
     },
     "execution_count": 40,
     "metadata": {},
     "output_type": "execute_result"
    },
    {
     "data": {
      "image/png": "[encoded data removed]",
      "text/plain": [
       "<Figure size 640x480 with 1 Axes>"
      ]
     },
     "metadata": {},
     "output_type": "display_data"
    }
   ],
   "source": [
    "df_news_feature[['change_120min_forward']].hist(bins=100)"
   ]
  },
  {
   "cell_type": "code",
   "execution_count": 44,
   "id": "f027cfd5-9e17-4d43-9f6d-f4743674522b",
   "metadata": {
    "execution": {
     "iopub.execute_input": "2024-04-21T20:31:47.216308Z",
     "iopub.status.busy": "2024-04-21T20:31:47.213569Z",
     "iopub.status.idle": "2024-04-21T20:31:47.229805Z",
     "shell.execute_reply": "2024-04-21T20:31:47.229303Z",
     "shell.execute_reply.started": "2024-04-21T20:31:47.216204Z"
    }
   },
   "outputs": [
    {
     "data": {
      "text/plain": [
       "change_1min_forward     -0.000207\n",
       "change_3min_forward     -0.000206\n",
       "change_5min_forward      0.000082\n",
       "change_7min_forward      0.000219\n",
       "change_10min_forward     0.000052\n",
       "change_30min_forward     0.000136\n",
       "change_60min_forward    -0.000407\n",
       "change_90min_forward    -0.000302\n",
       "change_120min_forward   -0.000490\n",
       "dtype: float64"
      ]
     },
     "execution_count": 44,
     "metadata": {},
     "output_type": "execute_result"
    }
   ],
   "source": [
    "change_forward_minutes = [1,3,5,7,10,30,60,90,120]\n",
    "df_news_feature[[f'change_{i}min_forward' for i in change_forward_minutes]].mean()"
   ]
  },
  {
   "cell_type": "code",
   "execution_count": 45,
   "id": "d605dea3-5b1a-43c7-a983-175795cc1590",
   "metadata": {
    "execution": {
     "iopub.execute_input": "2024-04-21T20:32:03.102157Z",
     "iopub.status.busy": "2024-04-21T20:32:03.099946Z",
     "iopub.status.idle": "2024-04-21T20:32:03.115689Z",
     "shell.execute_reply": "2024-04-21T20:32:03.114552Z",
     "shell.execute_reply.started": "2024-04-21T20:32:03.102054Z"
    }
   },
   "outputs": [
    {
     "data": {
      "text/plain": [
       "change_1min_forward     -0.169988\n",
       "change_3min_forward     -0.168890\n",
       "change_5min_forward      0.067120\n",
       "change_7min_forward      0.179710\n",
       "change_10min_forward     0.042815\n",
       "change_30min_forward     0.111263\n",
       "change_60min_forward    -0.334390\n",
       "change_90min_forward    -0.247740\n",
       "change_120min_forward   -0.402679\n",
       "dtype: float64"
      ]
     },
     "execution_count": 45,
     "metadata": {},
     "output_type": "execute_result"
    }
   ],
   "source": [
    "df_news_feature[[f'change_{i}min_forward' for i in change_forward_minutes]].sum()"
   ]
  },
  {
   "cell_type": "code",
   "execution_count": 47,
   "id": "fdcf235d-de89-4b63-82a9-adbd38e50044",
   "metadata": {
    "execution": {
     "iopub.execute_input": "2024-04-21T20:32:16.531687Z",
     "iopub.status.busy": "2024-04-21T20:32:16.531110Z",
     "iopub.status.idle": "2024-04-21T20:32:16.544483Z",
     "shell.execute_reply": "2024-04-21T20:32:16.542978Z",
     "shell.execute_reply.started": "2024-04-21T20:32:16.531657Z"
    }
   },
   "outputs": [
    {
     "data": {
      "text/plain": [
       "change_1min_backward      0.001926\n",
       "change_3min_backward      0.001804\n",
       "change_5min_backward      0.001668\n",
       "change_7min_backward      0.001708\n",
       "change_10min_backward     0.001605\n",
       "change_30min_backward     0.002397\n",
       "change_60min_backward     0.002898\n",
       "change_90min_backward     0.002467\n",
       "change_120min_backward    0.003100\n",
       "dtype: float64"
      ]
     },
     "execution_count": 47,
     "metadata": {},
     "output_type": "execute_result"
    }
   ],
   "source": [
    "df_news_feature[[f'change_{i}min_backward' for i in change_forward_minutes]].mean()"
   ]
  },
  {
   "cell_type": "code",
   "execution_count": 48,
   "id": "8a7a0335-714b-45fa-b56c-366498d63b40",
   "metadata": {
    "execution": {
     "iopub.execute_input": "2024-04-21T20:32:16.720524Z",
     "iopub.status.busy": "2024-04-21T20:32:16.719680Z",
     "iopub.status.idle": "2024-04-21T20:32:16.735021Z",
     "shell.execute_reply": "2024-04-21T20:32:16.733865Z",
     "shell.execute_reply.started": "2024-04-21T20:32:16.720487Z"
    }
   },
   "outputs": [
    {
     "data": {
      "text/plain": [
       "change_1min_backward      1.581185\n",
       "change_3min_backward      1.480802\n",
       "change_5min_backward      1.369531\n",
       "change_7min_backward      1.402096\n",
       "change_10min_backward     1.317917\n",
       "change_30min_backward     1.967571\n",
       "change_60min_backward     2.379403\n",
       "change_90min_backward     2.025440\n",
       "change_120min_backward    2.544834\n",
       "dtype: float64"
      ]
     },
     "execution_count": 48,
     "metadata": {},
     "output_type": "execute_result"
    }
   ],
   "source": [
    "df_news_feature[[f'change_{i}min_backward' for i in change_forward_minutes]].sum()"
   ]
  },
  {
   "cell_type": "code",
   "execution_count": null,
   "id": "9305fc15-d395-4754-868e-bfdf8e00508f",
   "metadata": {},
   "outputs": [],
   "source": []
  }
 ],
 "metadata": {
  "kernelspec": {
   "display_name": "Python 3 (ipykernel)",
   "language": "python",
   "name": "python3"
  },
  "language_info": {
   "codemirror_mode": {
    "name": "ipython",
    "version": 3
   },
   "file_extension": ".py",
   "mimetype": "text/x-python",
   "name": "python",
   "nbconvert_exporter": "python",
   "pygments_lexer": "ipython3",
   "version": "3.10.12"
  }
 },
 "nbformat": 4,
 "nbformat_minor": 5
}
